{
 "cells": [
  {
   "cell_type": "code",
   "execution_count": 26,
   "metadata": {
    "id": "N0kv4kDaa6Fl"
   },
   "outputs": [],
   "source": [
    "#import necessary libraries and dispKernal \n",
    "import numpy as np\n",
    "import matplotlib\n",
    "from matplotlib import pyplot as plt\n",
    "from dispkernel import dispKernel"
   ]
  },
  {
   "cell_type": "code",
   "execution_count": 7,
   "metadata": {
    "colab": {
     "base_uri": "https://localhost:8080/",
     "height": 34
    },
    "id": "k8NvZR8Hc7UA",
    "outputId": "a3529837-0cfd-4643-d980-5b8d61fc9800"
   },
   "outputs": [
    {
     "name": "stdout",
     "output_type": "stream",
     "text": [
      "Mounted at /content/drive\n"
     ]
    }
   ],
   "source": [
    "#mount the google drive for data access purpose\n",
    "from google.colab import drive\n",
    "drive.mount(\"/content/drive\")"
   ]
  },
  {
   "cell_type": "code",
   "execution_count": 8,
   "metadata": {
    "id": "-wCnzOuleFFi"
   },
   "outputs": [],
   "source": [
    "#load neccessary files as numpy arrays\n",
    "path = \"/content/drive/My Drive/Machine Intelligence 3rd Year Intro to MI Data/Assignment2/\"\n",
    "train_data = np.loadtxt(path + \"traindata.csv\",delimiter=\",\")\n",
    "train_label = np.loadtxt(path + \"trainlabel.csv\",delimiter=\",\")\n",
    "valid_data = np.loadtxt(path + \"validdata.csv\",delimiter=\",\")\n",
    "valid_label = np.loadtxt(path + \"validlabel.csv\",delimiter=\",\")"
   ]
  },
  {
   "cell_type": "code",
   "execution_count": 19,
   "metadata": {
    "id": "DCA80zrefchm"
   },
   "outputs": [],
   "source": [
    "#define initial hyperparamters (can be adjusted later on in function calls using keyword parameters)\n",
    "activation_function = \"Linear\" \n",
    "epochs = 100\n",
    "learning_rate = 0.1\n",
    "random_seed = 0"
   ]
  },
  {
   "cell_type": "code",
   "execution_count": 10,
   "metadata": {
    "colab": {
     "base_uri": "https://localhost:8080/",
     "height": 52
    },
    "id": "dl9-USlBhUuh",
    "outputId": "4649b793-0fa9-46f4-97c0-7c1f88e00e28"
   },
   "outputs": [
    {
     "data": {
      "application/vnd.google.colaboratory.intrinsic+json": {
       "type": "string"
      },
      "text/plain": [
       "'\\nweights,bias = generate_weights_and_bias(0)\\ncompute_loss(train_data,train_label,weights,bias)\\nprint(compute_gradients(train_data,train_label,weights,bias,\"Sigmoid\"))\\nprint(compute_accuracy(train_data,train_label,weights,bias,\"Sigmoid\"))\\n'"
      ]
     },
     "execution_count": 10,
     "metadata": {
      "tags": []
     },
     "output_type": "execute_result"
    }
   ],
   "source": [
    "#initialize weights and bias\n",
    "def generate_weights_and_bias(random_seed):\n",
    "  np.random.seed(random_seed)\n",
    "  weights = np.random.rand(9)*2-1\n",
    "  bias = np.random.rand()*2-1\n",
    "  return weights,bias\n",
    "\n",
    "#compute for loss \n",
    "def compute_loss(data,label,weights,bias,activation):\n",
    "  loss = 0\n",
    "  for j in range(len(data)):\n",
    "    sum = predict(data[j],weights,bias,activation) - label[j]\n",
    "    sum_suqare= sum ** 2\n",
    "    loss += sum_suqare\n",
    "  return loss / len(data)\n",
    "\n",
    "#compute for gradients\n",
    "def compute_gradients(data,label,weights,bias,activation):\n",
    "  grad_loss_weight = np.zeros(9)\n",
    "  grad_loss_bias = 0\n",
    "  for j in range (len(data)):\n",
    "    Z_j = np.sum(weights*data[j]) + bias\n",
    "    l_j = label[j]\n",
    "    del_loss_weight = del_loss_bias = 0\n",
    "\n",
    "    if (activation == \"Linear\"):\n",
    "      del_loss_weight = np.array([2*(Z_j-l_j)*data[j][i] for i in range (len(data[j]))])\n",
    "      del_loss_bias = 2*(np.sum(weights*data[j])+bias-label[j])\n",
    "    elif (activation == \"ReLU\"):\n",
    "      if (Z_j > 0):\n",
    "        del_loss_weight = np.array([2*(Z_j-l_j)*data[j][i] for i in range (len(data[j]))])\n",
    "        del_loss_bias = 2*(np.sum(weights*data[j])+bias-label[j])\n",
    "      elif (Z_j <= 0):\n",
    "        del_loss_weight = 0\n",
    "        del_loss_bias = 0\n",
    "    elif (activation == \"Sigmoid\"):\n",
    "      y = predict(data[j],weights,bias,activation)\n",
    "      del_loss_y = 2*y-2*l_j\n",
    "      del_y_z = y*(1-y)\n",
    "      del_loss_weight = np.array([del_loss_y*del_y_z*data[j][i] for i in range (len(data[j]))])\n",
    "      del_loss_bias = del_loss_y * del_y_z * 1\n",
    "\n",
    "    grad_loss_weight += del_loss_weight\n",
    "    grad_loss_bias += del_loss_bias\n",
    "  return grad_loss_weight/len(data),grad_loss_bias/len(data)\n",
    "\n",
    "#compute for accuracy\n",
    "def compute_accuracy(data,label,weights,bias,activation):\n",
    "  count_correct = 0\n",
    "  for j in range (len(data)):\n",
    "    prediction = predict(data[j],weights,bias,activation)\n",
    "    if (prediction >= 0.5):\n",
    "      predicted_label = 1\n",
    "    else:\n",
    "      predicted_label = 0\n",
    "    if (predicted_label == label[j]):\n",
    "      count_correct += 1\n",
    "  return count_correct / len(data)\n",
    "\n",
    "#generate predictions\n",
    "def predict(data_j,weights,bias,activation):\n",
    "  z = np.sum(weights * data_j) + bias\n",
    "  if (activation == \"Linear\"):\n",
    "    return z\n",
    "  elif (activation == \"ReLU\"):\n",
    "    if (z > 0):\n",
    "      return z\n",
    "    else:\n",
    "      return 0\n",
    "  elif (activation == \"Sigmoid\"):\n",
    "    return 1.0 / (1 + np.exp(-z))\n",
    "  return 0\n",
    "  \n",
    "'''\n",
    "weights,bias = generate_weights_and_bias(0)\n",
    "compute_loss(train_data,train_label,weights,bias)\n",
    "print(compute_gradients(train_data,train_label,weights,bias,\"Sigmoid\"))\n",
    "print(compute_accuracy(train_data,train_label,weights,bias,\"Sigmoid\"))\n",
    "'''"
   ]
  },
  {
   "cell_type": "code",
   "execution_count": 28,
   "metadata": {
    "id": "wg1akkLEsGsn"
   },
   "outputs": [],
   "source": [
    "#main training loop\n",
    "def main_train(epochs,random_seed,learning_rate,activation,train_data,train_label,valid_data,valid_label):\n",
    "  weights,bias = generate_weights_and_bias(random_seed)\n",
    "  train_acc = []\n",
    "  train_loss = []\n",
    "  valid_acc = []\n",
    "  valid_loss = []\n",
    "\n",
    "  for i in range (epochs):\n",
    "    #keep track of both training and validation losses\n",
    "    training_loss = compute_loss(train_data,train_label,weights,bias,activation)\n",
    "    validation_loss = compute_loss(valid_data,valid_label,weights,bias,activation)\n",
    "\n",
    "    #get the gradients and update the weights and bias\n",
    "    gradient_weights,gradient_bias = compute_gradients(train_data,train_label,weights,bias,activation)\n",
    "    weights -= gradient_weights * learning_rate\n",
    "    bias -= gradient_bias * learning_rate\n",
    "\n",
    "    #compute for training and validation accuracies\n",
    "    training_accuracy = compute_accuracy(train_data,train_label,weights,bias,activation)\n",
    "    validation_accuracy = compute_accuracy(valid_data,valid_label,weights,bias,activation)\n",
    "\n",
    "    #store all the historical accuracies and losses into lists for plotting purpose later on\n",
    "    train_acc.append(training_accuracy)\n",
    "    train_loss.append(training_loss)\n",
    "    valid_acc.append(validation_accuracy)\n",
    "    valid_loss.append(validation_loss)\n",
    "    \n",
    "    #print out intermediate results every 100 epochs\n",
    "    if ((i+1) % 100 == 0):\n",
    "      print(f\"Epochs {(i+1)} completed\")\n",
    "      print(\"Training Accuracy: \"+str(training_accuracy))\n",
    "      print(\"Training Loss: \"+str(training_loss))\n",
    "      print(\"Validation Accuracy: \"+str(validation_accuracy))\n",
    "      print(\"Validation Loss: \"+str(validation_loss))\n",
    "      print()\n",
    "    \n",
    "  #plot: Training and Validation Losses VS Epochs\n",
    "  epochs_list = range(epochs)\n",
    "  plt.figure(1)\n",
    "  plt.plot(epochs_list,train_loss,label=\"Training Loss\")\n",
    "  plt.plot(epochs_list,valid_loss,label=\"Validation Loss\")\n",
    "  plt.title(\"Training and Validation Loss\")\n",
    "  plt.xlabel(\"Epochs\")\n",
    "  plt.ylabel(\"Loss\")\n",
    "  plt.legend()\n",
    "  plt.show()\n",
    "\n",
    "  #plot: Training and Validation Accuracies VS Epochs\n",
    "  plt.figure(2)\n",
    "  plt.plot(epochs_list,train_acc,label=\"Training Accuracy\")\n",
    "  plt.plot(epochs_list,valid_acc,label=\"Validation Accuracy\")\n",
    "  plt.title(\"Training and Validation Accuracy\")\n",
    "  plt.xlabel(\"Epochs\")\n",
    "  plt.ylabel(\"Accuracy\")\n",
    "  plt.legend()\n",
    "  plt.show()\n",
    "\n",
    "  #print final training results\n",
    "  print(f\"Final Training Loss:{training_loss}\")\n",
    "  print(f\"Final Training Accuracy:{training_accuracy}\")\n",
    "  print(f\"Final Validation Loss:{validation_loss}\")\n",
    "  print(f\"Final Validation Accuracy:{validation_accuracy}\")\n",
    "  print(f\"Final Weights:{weights}\")\n",
    "  \n",
    "  dispKernel(weights,3,12)\n",
    "  return 0\n",
    "\n",
    "\n",
    "    "
   ]
  },
  {
   "cell_type": "code",
   "execution_count": 32,
   "metadata": {
    "colab": {
     "base_uri": "https://localhost:8080/",
     "height": 1000
    },
    "id": "zukl_O_lJcFb",
    "outputId": "3178de45-2743-4779-ab06-4cf78de7b3d8"
   },
   "outputs": [
    {
     "name": "stdout",
     "output_type": "stream",
     "text": [
      "Epochs 100 completed\n",
      "Training Accuracy: 0.785\n",
      "Training Loss: 0.21965728790937458\n",
      "Validation Accuracy: 0.7\n",
      "Validation Loss: 0.28188812587210255\n",
      "\n",
      "Epochs 200 completed\n",
      "Training Accuracy: 0.885\n",
      "Training Loss: 0.11921250097986123\n",
      "Validation Accuracy: 0.75\n",
      "Validation Loss: 0.1470403796483757\n",
      "\n",
      "Epochs 300 completed\n",
      "Training Accuracy: 0.935\n",
      "Training Loss: 0.08874662465955638\n",
      "Validation Accuracy: 0.9\n",
      "Validation Loss: 0.10147096204569786\n",
      "\n",
      "Epochs 400 completed\n",
      "Training Accuracy: 0.94\n",
      "Training Loss: 0.07525995333181845\n",
      "Validation Accuracy: 0.95\n",
      "Validation Loss: 0.08178695929750285\n",
      "\n",
      "Epochs 500 completed\n",
      "Training Accuracy: 0.945\n",
      "Training Loss: 0.06825477731917723\n",
      "Validation Accuracy: 0.95\n",
      "Validation Loss: 0.07212995215598872\n",
      "\n",
      "Epochs 600 completed\n",
      "Training Accuracy: 0.96\n",
      "Training Loss: 0.06430948510359479\n",
      "Validation Accuracy: 0.95\n",
      "Validation Loss: 0.067028331817053\n",
      "\n",
      "Epochs 700 completed\n",
      "Training Accuracy: 0.965\n",
      "Training Loss: 0.06193433289673545\n",
      "Validation Accuracy: 0.95\n",
      "Validation Loss: 0.06419195544584726\n",
      "\n",
      "Epochs 800 completed\n",
      "Training Accuracy: 0.97\n",
      "Training Loss: 0.060408072985744535\n",
      "Validation Accuracy: 0.95\n",
      "Validation Loss: 0.06255246263412496\n",
      "\n",
      "Epochs 900 completed\n",
      "Training Accuracy: 0.97\n",
      "Training Loss: 0.05936514657905362\n",
      "Validation Accuracy: 0.95\n",
      "Validation Loss: 0.06157570421419152\n",
      "\n",
      "Epochs 1000 completed\n",
      "Training Accuracy: 0.97\n",
      "Training Loss: 0.058613540087024275\n",
      "Validation Accuracy: 0.95\n",
      "Validation Loss: 0.06098069130518198\n",
      "\n"
     ]
    },
    {
     "data": {
      "image/png": "[encoded data removed]",
      "text/plain": [
       "<Figure size 432x288 with 1 Axes>"
      ]
     },
     "metadata": {
      "needs_background": "light",
      "tags": []
     },
     "output_type": "display_data"
    },
    {
     "data": {
      "image/png": "[encoded data removed]",
      "text/plain": [
       "<Figure size 432x288 with 1 Axes>"
      ]
     },
     "metadata": {
      "needs_background": "light",
      "tags": []
     },
     "output_type": "display_data"
    },
    {
     "name": "stdout",
     "output_type": "stream",
     "text": [
      "Final Training Loss:0.058613540087024275\n",
      "Final Training Accuracy:0.97\n",
      "Final Validation Loss:0.06098069130518198\n",
      "Final Validation Accuracy:0.95\n",
      "Final Weights:[ 0.24508492 -0.0980674   0.18967756 -0.17235702  0.16084879 -0.12474511\n",
      "  0.21475861 -0.15025401  0.21826932]\n"
     ]
    },
    {
     "data": {
      "image/png": "[encoded data removed]",
      "text/plain": [
       "<Figure size 432x288 with 1 Axes>"
      ]
     },
     "metadata": {
      "needs_background": "light",
      "tags": []
     },
     "output_type": "display_data"
    },
    {
     "data": {
      "text/plain": [
       "0"
      ]
     },
     "execution_count": 32,
     "metadata": {
      "tags": []
     },
     "output_type": "execute_result"
    }
   ],
   "source": [
    "main_train(epochs=1000,random_seed=0,learning_rate=0.01,activation='Linear',\n",
    "                     train_data=train_data,train_label=train_label,\n",
    "                     valid_data=valid_data,valid_label=valid_label)"
   ]
  },
  {
   "cell_type": "code",
   "execution_count": 33,
   "metadata": {
    "colab": {
     "base_uri": "https://localhost:8080/",
     "height": 1000
    },
    "id": "gRW7ND7ZKjQH",
    "outputId": "e9e8b542-f23a-48bf-9f64-1666e6a4b8f3"
   },
   "outputs": [
    {
     "name": "stdout",
     "output_type": "stream",
     "text": [
      "Epochs 100 completed\n",
      "Training Accuracy: 0.81\n",
      "Training Loss: 0.18712129917118667\n",
      "Validation Accuracy: 0.7\n",
      "Validation Loss: 0.24197398875169912\n",
      "\n",
      "Epochs 200 completed\n",
      "Training Accuracy: 0.91\n",
      "Training Loss: 0.07738488790947458\n",
      "Validation Accuracy: 0.85\n",
      "Validation Loss: 0.10902920785889889\n",
      "\n",
      "Epochs 300 completed\n",
      "Training Accuracy: 0.96\n",
      "Training Loss: 0.04524674213475378\n",
      "Validation Accuracy: 0.9\n",
      "Validation Loss: 0.0644351484845413\n",
      "\n",
      "Epochs 400 completed\n",
      "Training Accuracy: 0.97\n",
      "Training Loss: 0.031144430850853787\n",
      "Validation Accuracy: 0.95\n",
      "Validation Loss: 0.04601244427869948\n",
      "\n",
      "Epochs 500 completed\n",
      "Training Accuracy: 0.98\n",
      "Training Loss: 0.023395229916576842\n",
      "Validation Accuracy: 0.95\n",
      "Validation Loss: 0.03738562284089377\n",
      "\n",
      "Epochs 600 completed\n",
      "Training Accuracy: 0.985\n",
      "Training Loss: 0.018873246671250163\n",
      "Validation Accuracy: 0.95\n",
      "Validation Loss: 0.03211725862746416\n",
      "\n",
      "Epochs 700 completed\n",
      "Training Accuracy: 0.99\n",
      "Training Loss: 0.016003148553959668\n",
      "Validation Accuracy: 0.95\n",
      "Validation Loss: 0.028431614633387992\n",
      "\n",
      "Epochs 800 completed\n",
      "Training Accuracy: 0.99\n",
      "Training Loss: 0.014106862689247124\n",
      "Validation Accuracy: 0.95\n",
      "Validation Loss: 0.025768698151106318\n",
      "\n",
      "Epochs 900 completed\n",
      "Training Accuracy: 0.99\n",
      "Training Loss: 0.012776252738302709\n",
      "Validation Accuracy: 0.95\n",
      "Validation Loss: 0.02375539666699705\n",
      "\n",
      "Epochs 1000 completed\n",
      "Training Accuracy: 0.99\n",
      "Training Loss: 0.011760219969062465\n",
      "Validation Accuracy: 0.95\n",
      "Validation Loss: 0.022125009933273893\n",
      "\n"
     ]
    },
    {
     "data": {
      "image/png": "[encoded data removed]",
      "text/plain": [
       "<Figure size 432x288 with 1 Axes>"
      ]
     },
     "metadata": {
      "needs_background": "light",
      "tags": []
     },
     "output_type": "display_data"
    },
    {
     "data": {
      "image/png": "[encoded data removed]",
      "text/plain": [
       "<Figure size 432x288 with 1 Axes>"
      ]
     },
     "metadata": {
      "needs_background": "light",
      "tags": []
     },
     "output_type": "display_data"
    },
    {
     "name": "stdout",
     "output_type": "stream",
     "text": [
      "Final Training Loss:0.011760219969062465\n",
      "Final Training Accuracy:0.99\n",
      "Final Validation Loss:0.022125009933273893\n",
      "Final Validation Accuracy:0.95\n",
      "Final Weights:[ 0.28315163 -0.27192117  0.31316894 -0.44005892  0.12786523 -0.37430935\n",
      "  0.24825602 -0.2748814   0.61191493]\n"
     ]
    },
    {
     "data": {
      "image/png": "[encoded data removed]",
      "text/plain": [
       "<Figure size 432x288 with 1 Axes>"
      ]
     },
     "metadata": {
      "needs_background": "light",
      "tags": []
     },
     "output_type": "display_data"
    },
    {
     "data": {
      "text/plain": [
       "0"
      ]
     },
     "execution_count": 33,
     "metadata": {
      "tags": []
     },
     "output_type": "execute_result"
    }
   ],
   "source": [
    "main_train(epochs=1000,random_seed=0,learning_rate=0.01,activation='ReLU',\n",
    "                     train_data=train_data,train_label=train_label,\n",
    "                     valid_data=valid_data,valid_label=valid_label)"
   ]
  },
  {
   "cell_type": "code",
   "execution_count": 36,
   "metadata": {
    "colab": {
     "base_uri": "https://localhost:8080/",
     "height": 1000
    },
    "id": "kogxF5Y7Kmc_",
    "outputId": "0972abbe-9308-4b3a-c367-e57bb55e1544"
   },
   "outputs": [
    {
     "name": "stdout",
     "output_type": "stream",
     "text": [
      "Epochs 100 completed\n",
      "Training Accuracy: 0.46\n",
      "Training Loss: 0.34515615351563655\n",
      "Validation Accuracy: 0.5\n",
      "Validation Loss: 0.3447609189331008\n",
      "\n",
      "Epochs 200 completed\n",
      "Training Accuracy: 0.535\n",
      "Training Loss: 0.3029782180321056\n",
      "Validation Accuracy: 0.55\n",
      "Validation Loss: 0.3089515755031348\n",
      "\n",
      "Epochs 300 completed\n",
      "Training Accuracy: 0.605\n",
      "Training Loss: 0.2672041624273669\n",
      "Validation Accuracy: 0.6\n",
      "Validation Loss: 0.27756304756108524\n",
      "\n",
      "Epochs 400 completed\n",
      "Training Accuracy: 0.705\n",
      "Training Loss: 0.23835622250733507\n",
      "Validation Accuracy: 0.65\n",
      "Validation Loss: 0.2514976730683368\n",
      "\n",
      "Epochs 500 completed\n",
      "Training Accuracy: 0.78\n",
      "Training Loss: 0.21520743042505497\n",
      "Validation Accuracy: 0.7\n",
      "Validation Loss: 0.23014415099567218\n",
      "\n",
      "Epochs 600 completed\n",
      "Training Accuracy: 0.84\n",
      "Training Loss: 0.19622196053213692\n",
      "Validation Accuracy: 0.75\n",
      "Validation Loss: 0.21237168666732664\n",
      "\n",
      "Epochs 700 completed\n",
      "Training Accuracy: 0.9\n",
      "Training Loss: 0.18025825020857528\n",
      "Validation Accuracy: 0.8\n",
      "Validation Loss: 0.19725251583744705\n",
      "\n",
      "Epochs 800 completed\n",
      "Training Accuracy: 0.925\n",
      "Training Loss: 0.1665998340700648\n",
      "Validation Accuracy: 0.85\n",
      "Validation Loss: 0.18418321804780177\n",
      "\n",
      "Epochs 900 completed\n",
      "Training Accuracy: 0.94\n",
      "Training Loss: 0.15479435487734414\n",
      "Validation Accuracy: 0.85\n",
      "Validation Loss: 0.1727776975867977\n",
      "\n",
      "Epochs 1000 completed\n",
      "Training Accuracy: 0.945\n",
      "Training Loss: 0.1445258268696012\n",
      "Validation Accuracy: 0.85\n",
      "Validation Loss: 0.16276469774764374\n",
      "\n",
      "Epochs 1100 completed\n",
      "Training Accuracy: 0.955\n",
      "Training Loss: 0.1355495196155183\n",
      "Validation Accuracy: 0.85\n",
      "Validation Loss: 0.15393343398484247\n",
      "\n",
      "Epochs 1200 completed\n",
      "Training Accuracy: 0.96\n",
      "Training Loss: 0.12766484649574056\n",
      "Validation Accuracy: 0.85\n",
      "Validation Loss: 0.14611061223444832\n",
      "\n",
      "Epochs 1300 completed\n",
      "Training Accuracy: 0.96\n",
      "Training Loss: 0.12070437181502378\n",
      "Validation Accuracy: 0.85\n",
      "Validation Loss: 0.13915092067340384\n",
      "\n",
      "Epochs 1400 completed\n",
      "Training Accuracy: 0.965\n",
      "Training Loss: 0.11452815957565278\n",
      "Validation Accuracy: 0.85\n",
      "Validation Loss: 0.1329320544328674\n",
      "\n",
      "Epochs 1500 completed\n",
      "Training Accuracy: 0.97\n",
      "Training Loss: 0.1090196028648771\n",
      "Validation Accuracy: 0.85\n",
      "Validation Loss: 0.1273511028275992\n",
      "\n",
      "Epochs 1600 completed\n",
      "Training Accuracy: 0.97\n",
      "Training Loss: 0.10408174612461857\n",
      "Validation Accuracy: 0.9\n",
      "Validation Loss: 0.12232147228462557\n",
      "\n",
      "Epochs 1700 completed\n",
      "Training Accuracy: 0.97\n",
      "Training Loss: 0.09963398788158372\n",
      "Validation Accuracy: 0.9\n",
      "Validation Loss: 0.11777020760365416\n",
      "\n",
      "Epochs 1800 completed\n",
      "Training Accuracy: 0.975\n",
      "Training Loss: 0.09560920922372375\n",
      "Validation Accuracy: 0.9\n",
      "Validation Loss: 0.11363570034140184\n",
      "\n",
      "Epochs 1900 completed\n",
      "Training Accuracy: 0.975\n",
      "Training Loss: 0.09195134638834179\n",
      "Validation Accuracy: 0.95\n",
      "Validation Loss: 0.1098657646880054\n",
      "\n",
      "Epochs 2000 completed\n",
      "Training Accuracy: 0.975\n",
      "Training Loss: 0.0886133822024285\n",
      "Validation Accuracy: 0.95\n",
      "Validation Loss: 0.10641604176862811\n",
      "\n"
     ]
    },
    {
     "data": {
      "image/png": "[encoded data removed]",
      "text/plain": [
       "<Figure size 432x288 with 1 Axes>"
      ]
     },
     "metadata": {
      "needs_background": "light",
      "tags": []
     },
     "output_type": "display_data"
    },
    {
     "data": {
      "image/png": "[encoded data removed]",
      "text/plain": [
       "<Figure size 432x288 with 1 Axes>"
      ]
     },
     "metadata": {
      "needs_background": "light",
      "tags": []
     },
     "output_type": "display_data"
    },
    {
     "name": "stdout",
     "output_type": "stream",
     "text": [
      "Final Training Loss:0.0886133822024285\n",
      "Final Training Accuracy:0.975\n",
      "Final Validation Loss:0.10641604176862811\n",
      "Final Validation Accuracy:0.95\n",
      "Final Weights:[ 0.27729774 -0.52713872  0.36972127 -0.77544612  0.07290522 -0.67199246\n",
      "  0.18755068 -0.30480165  0.83563209]\n"
     ]
    },
    {
     "data": {
      "image/png": "[encoded data removed]",
      "text/plain": [
       "<Figure size 432x288 with 1 Axes>"
      ]
     },
     "metadata": {
      "needs_background": "light",
      "tags": []
     },
     "output_type": "display_data"
    },
    {
     "data": {
      "text/plain": [
       "0"
      ]
     },
     "execution_count": 36,
     "metadata": {
      "tags": []
     },
     "output_type": "execute_result"
    }
   ],
   "source": [
    "main_train(epochs=2000,random_seed=0,learning_rate=0.01,activation='Sigmoid',\n",
    "                     train_data=train_data,train_label=train_label,\n",
    "                     valid_data=valid_data,valid_label=valid_label)"
   ]
  },
  {
   "cell_type": "code",
   "execution_count": 25,
   "metadata": {
    "id": "CsP3-ZFgsIaW"
   },
   "outputs": [],
   "source": []
  }
 ],
 "metadata": {
  "colab": {
   "name": "part1.ipynb",
   "provenance": []
  },
  "kernelspec": {
   "display_name": "Python 3",
   "language": "python",
   "name": "python3"
  },
  "language_info": {
   "codemirror_mode": {
    "name": "ipython",
    "version": 3
   },
   "file_extension": ".py",
   "mimetype": "text/x-python",
   "name": "python",
   "nbconvert_exporter": "python",
   "pygments_lexer": "ipython3",
   "version": "3.7.9"
  }
 },
 "nbformat": 4,
 "nbformat_minor": 1
}
